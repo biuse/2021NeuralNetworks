{
 "cells": [
  {
   "cell_type": "markdown",
   "metadata": {},
   "source": [
    "# Regresión\n",
    "En una regresión lo que queremos es obtener uno o más valores concretos, no clases. Es como si quisieramos un resultado de una operación matemática. Vemos un ejemplo de una red de regresión que queremos que aprenda a sumar 3 números. \n",
    "\n",
    "Primero generamos número aleatorios:\n"
   ]
  },
  {
   "cell_type": "code",
   "execution_count": 45,
   "metadata": {},
   "outputs": [
    {
     "name": "stdout",
     "output_type": "stream",
     "text": [
      "(1000, 3) (1000,)\n"
     ]
    }
   ],
   "source": [
    "import numpy as np\n",
    "#Generamos training set con 1000 datos. \n",
    "X1 = np.random.uniform(size = 1000) * 100\n",
    "X2 = np.random.uniform(size = 1000) * 100\n",
    "X3 = np.random.uniform(size = 1000) * 100\n",
    "X = np.transpose([X1, X2, X3])\n"
   ]
  },
  {
   "cell_type": "markdown",
   "metadata": {},
   "source": [
    "Este seran nuestro valores de entrada o *inputs*. Los *outputs* de nuestro problema serán la suma de los números,"
   ]
  },
  {
   "cell_type": "code",
   "execution_count": 46,
   "metadata": {},
   "outputs": [],
   "source": [
    "Y = X1 + X2 + X3  \n"
   ]
  },
  {
   "cell_type": "markdown",
   "metadata": {},
   "source": [
    "Ahora que ya tenemos un set de ejemplo. Volvemos a separar los datos en set de entrenamiento y set de validación"
   ]
  },
  {
   "cell_type": "code",
   "execution_count": 4,
   "metadata": {},
   "outputs": [
    {
     "data": {
      "text/plain": [
       "((750,), (250,))"
      ]
     },
     "execution_count": 4,
     "metadata": {},
     "output_type": "execute_result"
    }
   ],
   "source": [
    "from sklearn.model_selection import train_test_split\n",
    "X_train, X_test, y_train, y_test = train_test_split(X, Y) \n",
    "np.shape(y_train),np.shape(y_test) # comprobamos tamaño"
   ]
  },
  {
   "cell_type": "markdown",
   "metadata": {},
   "source": [
    "Usamos el objeto `MLPRegressor` para definir las características de la red. La **batch_size** no la hemos tocado antes, por defecto toman un valor que dependerá del método de optimización escogido, pero la podríamos cambiar si nos interesa. "
   ]
  },
  {
   "cell_type": "code",
   "execution_count": 22,
   "metadata": {},
   "outputs": [],
   "source": [
    "from sklearn.neural_network import MLPRegressor\n",
    "# Escojo 3 capas de 10 neuronas\n",
    "mlp = MLPRegressor(hidden_layer_sizes=(10),max_iter=500,verbose=True) "
   ]
  },
  {
   "cell_type": "markdown",
   "metadata": {},
   "source": [
    "Y entrenamos"
   ]
  },
  {
   "cell_type": "code",
   "execution_count": 23,
   "metadata": {},
   "outputs": [
    {
     "name": "stdout",
     "output_type": "stream",
     "text": [
      "Iteration 1, loss = 10020.40050238\n",
      "Iteration 2, loss = 9746.19371920\n",
      "Iteration 3, loss = 9473.84156895\n",
      "Iteration 4, loss = 9202.16829646\n",
      "Iteration 5, loss = 8936.30231243\n",
      "Iteration 6, loss = 8673.06099675\n",
      "Iteration 7, loss = 8414.58797085\n",
      "Iteration 8, loss = 8158.67711758\n",
      "Iteration 9, loss = 7906.31082492\n",
      "Iteration 10, loss = 7652.56100315\n",
      "Iteration 11, loss = 7406.18401139\n",
      "Iteration 12, loss = 7162.59688649\n",
      "Iteration 13, loss = 6918.53912703\n",
      "Iteration 14, loss = 6680.17128104\n",
      "Iteration 15, loss = 6441.52052095\n",
      "Iteration 16, loss = 6205.91973031\n",
      "Iteration 17, loss = 5976.07290120\n",
      "Iteration 18, loss = 5742.77546582\n",
      "Iteration 19, loss = 5518.22805612\n",
      "Iteration 20, loss = 5289.63580021\n",
      "Iteration 21, loss = 5066.00925444\n",
      "Iteration 22, loss = 4843.54076574\n",
      "Iteration 23, loss = 4620.72275385\n",
      "Iteration 24, loss = 4396.76389937\n",
      "Iteration 25, loss = 4168.82322654\n",
      "Iteration 26, loss = 3942.61594980\n",
      "Iteration 27, loss = 3716.67943924\n",
      "Iteration 28, loss = 3486.26994767\n",
      "Iteration 29, loss = 3266.07256530\n",
      "Iteration 30, loss = 3052.63701764\n",
      "Iteration 31, loss = 2839.98546872\n",
      "Iteration 32, loss = 2634.98135948\n",
      "Iteration 33, loss = 2440.46510334\n",
      "Iteration 34, loss = 2252.12837610\n",
      "Iteration 35, loss = 2074.07933895\n",
      "Iteration 36, loss = 1900.58859605\n",
      "Iteration 37, loss = 1742.07892906\n",
      "Iteration 38, loss = 1592.00046964\n",
      "Iteration 39, loss = 1450.88642080\n",
      "Iteration 40, loss = 1322.56021788\n",
      "Iteration 41, loss = 1201.54583756\n",
      "Iteration 42, loss = 1090.32070268\n",
      "Iteration 43, loss = 989.73958854\n",
      "Iteration 44, loss = 897.84164221\n",
      "Iteration 45, loss = 812.40624474\n",
      "Iteration 46, loss = 736.70349716\n",
      "Iteration 47, loss = 669.06323771\n",
      "Iteration 48, loss = 606.09347011\n",
      "Iteration 49, loss = 550.92908562\n",
      "Iteration 50, loss = 501.44841624\n",
      "Iteration 51, loss = 457.30281844\n",
      "Iteration 52, loss = 418.51609145\n",
      "Iteration 53, loss = 383.68084391\n",
      "Iteration 54, loss = 352.93963060\n",
      "Iteration 55, loss = 326.92243176\n",
      "Iteration 56, loss = 303.17069091\n",
      "Iteration 57, loss = 282.92140762\n",
      "Iteration 58, loss = 265.66616544\n",
      "Iteration 59, loss = 250.37220779\n",
      "Iteration 60, loss = 237.03024431\n",
      "Iteration 61, loss = 225.40617126\n",
      "Iteration 62, loss = 215.26299335\n",
      "Iteration 63, loss = 206.76892915\n",
      "Iteration 64, loss = 199.37408392\n",
      "Iteration 65, loss = 192.44483079\n",
      "Iteration 66, loss = 186.84549699\n",
      "Iteration 67, loss = 181.48795124\n",
      "Iteration 68, loss = 177.09281903\n",
      "Iteration 69, loss = 172.88081125\n",
      "Iteration 70, loss = 169.21500247\n",
      "Iteration 71, loss = 165.81964963\n",
      "Iteration 72, loss = 162.73184096\n",
      "Iteration 73, loss = 159.80054822\n",
      "Iteration 74, loss = 157.17690605\n",
      "Iteration 75, loss = 154.45537546\n",
      "Iteration 76, loss = 152.17723953\n",
      "Iteration 77, loss = 149.76119658\n",
      "Iteration 78, loss = 147.50463980\n",
      "Iteration 79, loss = 145.33043297\n",
      "Iteration 80, loss = 143.14567468\n",
      "Iteration 81, loss = 141.05034596\n",
      "Iteration 82, loss = 138.93672098\n",
      "Iteration 83, loss = 136.96649619\n",
      "Iteration 84, loss = 134.95965510\n",
      "Iteration 85, loss = 132.95801725\n",
      "Iteration 86, loss = 131.03869218\n",
      "Iteration 87, loss = 129.10923142\n",
      "Iteration 88, loss = 127.16564939\n",
      "Iteration 89, loss = 125.25532745\n",
      "Iteration 90, loss = 123.43037074\n",
      "Iteration 91, loss = 121.52652529\n",
      "Iteration 92, loss = 119.65018488\n",
      "Iteration 93, loss = 117.85617935\n",
      "Iteration 94, loss = 116.05596439\n",
      "Iteration 95, loss = 114.25269211\n",
      "Iteration 96, loss = 112.52763471\n",
      "Iteration 97, loss = 110.71860675\n",
      "Iteration 98, loss = 108.97263304\n",
      "Iteration 99, loss = 107.22908556\n",
      "Iteration 100, loss = 105.53215968\n",
      "Iteration 101, loss = 103.85156539\n",
      "Iteration 102, loss = 102.18443798\n",
      "Iteration 103, loss = 100.49253367\n",
      "Iteration 104, loss = 98.86093928\n",
      "Iteration 105, loss = 97.23925501\n",
      "Iteration 106, loss = 95.63797681\n",
      "Iteration 107, loss = 94.03032963\n",
      "Iteration 108, loss = 92.43235662\n",
      "Iteration 109, loss = 90.90346927\n",
      "Iteration 110, loss = 89.35864071\n",
      "Iteration 111, loss = 87.83046841\n",
      "Iteration 112, loss = 86.31390740\n",
      "Iteration 113, loss = 84.83200429\n",
      "Iteration 114, loss = 83.33505137\n",
      "Iteration 115, loss = 81.87417797\n",
      "Iteration 116, loss = 80.43362896\n",
      "Iteration 117, loss = 79.00344730\n",
      "Iteration 118, loss = 77.60377397\n",
      "Iteration 119, loss = 76.22904134\n",
      "Iteration 120, loss = 74.80901541\n",
      "Iteration 121, loss = 73.45418221\n",
      "Iteration 122, loss = 72.11896615\n",
      "Iteration 123, loss = 70.81142499\n",
      "Iteration 124, loss = 69.49916166\n",
      "Iteration 125, loss = 68.22687700\n",
      "Iteration 126, loss = 66.92500679\n",
      "Iteration 127, loss = 65.67775224\n",
      "Iteration 128, loss = 64.44312838\n",
      "Iteration 129, loss = 63.21854983\n",
      "Iteration 130, loss = 62.02320989\n",
      "Iteration 131, loss = 60.81837370\n",
      "Iteration 132, loss = 59.62050680\n",
      "Iteration 133, loss = 58.50304932\n",
      "Iteration 134, loss = 57.35137517\n",
      "Iteration 135, loss = 56.22066369\n",
      "Iteration 136, loss = 55.11647757\n",
      "Iteration 137, loss = 54.03602400\n",
      "Iteration 138, loss = 52.95948229\n",
      "Iteration 139, loss = 51.88261103\n",
      "Iteration 140, loss = 50.85305327\n",
      "Iteration 141, loss = 49.81882279\n",
      "Iteration 142, loss = 48.80515063\n",
      "Iteration 143, loss = 47.79003517\n",
      "Iteration 144, loss = 46.82735667\n",
      "Iteration 145, loss = 45.83461877\n",
      "Iteration 146, loss = 44.91878395\n",
      "Iteration 147, loss = 43.98667717\n",
      "Iteration 148, loss = 43.05965621\n",
      "Iteration 149, loss = 42.13585884\n",
      "Iteration 150, loss = 41.25905424\n",
      "Iteration 151, loss = 40.40555613\n",
      "Iteration 152, loss = 39.53210289\n",
      "Iteration 153, loss = 38.67638706\n",
      "Iteration 154, loss = 37.87371917\n",
      "Iteration 155, loss = 37.02521406\n",
      "Iteration 156, loss = 36.23543687\n",
      "Iteration 157, loss = 35.44010667\n",
      "Iteration 158, loss = 34.66698769\n",
      "Iteration 159, loss = 33.90772699\n",
      "Iteration 160, loss = 33.15282936\n",
      "Iteration 161, loss = 32.40572694\n",
      "Iteration 162, loss = 31.69043716\n",
      "Iteration 163, loss = 30.99088877\n",
      "Iteration 164, loss = 30.29351472\n",
      "Iteration 165, loss = 29.59230263\n",
      "Iteration 166, loss = 28.93510830\n",
      "Iteration 167, loss = 28.26624775\n",
      "Iteration 168, loss = 27.62107777\n",
      "Iteration 169, loss = 27.00101169\n",
      "Iteration 170, loss = 26.37716155\n",
      "Iteration 171, loss = 25.75833593\n",
      "Iteration 172, loss = 25.15444406\n",
      "Iteration 173, loss = 24.58362884\n",
      "Iteration 174, loss = 24.00207584\n",
      "Iteration 175, loss = 23.43836841\n",
      "Iteration 176, loss = 22.89049309\n",
      "Iteration 177, loss = 22.34711153\n",
      "Iteration 178, loss = 21.82650246\n",
      "Iteration 179, loss = 21.29560761\n",
      "Iteration 180, loss = 20.79988162\n",
      "Iteration 181, loss = 20.29525705\n",
      "Iteration 182, loss = 19.81167819\n",
      "Iteration 183, loss = 19.33864186\n",
      "Iteration 184, loss = 18.87661306\n",
      "Iteration 185, loss = 18.41554176\n",
      "Iteration 186, loss = 17.96740847\n",
      "Iteration 187, loss = 17.52664883\n",
      "Iteration 188, loss = 17.10189650\n",
      "Iteration 189, loss = 16.69543325\n",
      "Iteration 190, loss = 16.27605011\n",
      "Iteration 191, loss = 15.87304397\n",
      "Iteration 192, loss = 15.48768061\n",
      "Iteration 193, loss = 15.10380449\n",
      "Iteration 194, loss = 14.73013620\n",
      "Iteration 195, loss = 14.36849877\n",
      "Iteration 196, loss = 14.01194407\n",
      "Iteration 197, loss = 13.66543506\n",
      "Iteration 198, loss = 13.32582057\n",
      "Iteration 199, loss = 12.99722085\n",
      "Iteration 200, loss = 12.67126346\n",
      "Iteration 201, loss = 12.35968102\n",
      "Iteration 202, loss = 12.04660853\n",
      "Iteration 203, loss = 11.75751259\n",
      "Iteration 204, loss = 11.45189631\n",
      "Iteration 205, loss = 11.17863100\n",
      "Iteration 206, loss = 10.89042834\n",
      "Iteration 207, loss = 10.62880136\n",
      "Iteration 208, loss = 10.35381127\n",
      "Iteration 209, loss = 10.10169407\n",
      "Iteration 210, loss = 9.85025165\n",
      "Iteration 211, loss = 9.60366532\n",
      "Iteration 212, loss = 9.36641125\n",
      "Iteration 213, loss = 9.13065171\n",
      "Iteration 214, loss = 8.90629777\n",
      "Iteration 215, loss = 8.67924130\n",
      "Iteration 216, loss = 8.46943670\n",
      "Iteration 217, loss = 8.25929760\n",
      "Iteration 218, loss = 8.05299959\n",
      "Iteration 219, loss = 7.85291589\n",
      "Iteration 220, loss = 7.66227506\n",
      "Iteration 221, loss = 7.47719784\n",
      "Iteration 222, loss = 7.28876117\n",
      "Iteration 223, loss = 7.10862311\n",
      "Iteration 224, loss = 6.93408003\n",
      "Iteration 225, loss = 6.76902480\n",
      "Iteration 226, loss = 6.60402137\n",
      "Iteration 227, loss = 6.44426504\n",
      "Iteration 228, loss = 6.28888394\n",
      "Iteration 229, loss = 6.13628575\n",
      "Iteration 230, loss = 5.98916747\n",
      "Iteration 231, loss = 5.84940726\n",
      "Iteration 232, loss = 5.71063496\n",
      "Iteration 233, loss = 5.57618933\n",
      "Iteration 234, loss = 5.44465812\n",
      "Iteration 235, loss = 5.31917161\n",
      "Iteration 236, loss = 5.19619287\n",
      "Iteration 237, loss = 5.07777779\n",
      "Iteration 238, loss = 4.96218501\n",
      "Iteration 239, loss = 4.85133699\n",
      "Iteration 240, loss = 4.73871557\n",
      "Iteration 241, loss = 4.63416768\n",
      "Iteration 242, loss = 4.53300216\n",
      "Iteration 243, loss = 4.43097735\n",
      "Iteration 244, loss = 4.33332057\n",
      "Iteration 245, loss = 4.24226066\n",
      "Iteration 246, loss = 4.14984940\n",
      "Iteration 247, loss = 4.06193402\n",
      "Iteration 248, loss = 3.97504241\n",
      "Iteration 249, loss = 3.89711403\n",
      "Iteration 250, loss = 3.81455310\n",
      "Iteration 251, loss = 3.73618152\n",
      "Iteration 252, loss = 3.66209552\n",
      "Iteration 253, loss = 3.59005732\n",
      "Iteration 254, loss = 3.51994372\n",
      "Iteration 255, loss = 3.45082431\n",
      "Iteration 256, loss = 3.38567126\n",
      "Iteration 257, loss = 3.32211643\n",
      "Iteration 258, loss = 3.25809176\n",
      "Iteration 259, loss = 3.19905311\n",
      "Iteration 260, loss = 3.14200724\n",
      "Iteration 261, loss = 3.08441786\n",
      "Iteration 262, loss = 3.03094874\n",
      "Iteration 263, loss = 2.97672108\n",
      "Iteration 264, loss = 2.92670966\n",
      "Iteration 265, loss = 2.87801039\n",
      "Iteration 266, loss = 2.82997614\n",
      "Iteration 267, loss = 2.78220881\n",
      "Iteration 268, loss = 2.73822454\n",
      "Iteration 269, loss = 2.69426884\n",
      "Iteration 270, loss = 2.65274660\n",
      "Iteration 271, loss = 2.61267316\n",
      "Iteration 272, loss = 2.57176648\n",
      "Iteration 273, loss = 2.53487493\n",
      "Iteration 274, loss = 2.49780511\n",
      "Iteration 275, loss = 2.46289121\n",
      "Iteration 276, loss = 2.42813016\n",
      "Iteration 277, loss = 2.39423078\n",
      "Iteration 278, loss = 2.36324997\n",
      "Iteration 279, loss = 2.33118099\n",
      "Iteration 280, loss = 2.30098970\n",
      "Iteration 281, loss = 2.27295212\n",
      "Iteration 282, loss = 2.24435546\n",
      "Iteration 283, loss = 2.21823911\n",
      "Iteration 284, loss = 2.19067987\n",
      "Iteration 285, loss = 2.16620949\n",
      "Iteration 286, loss = 2.14201316\n",
      "Iteration 287, loss = 2.11911148\n",
      "Iteration 288, loss = 2.09549298\n",
      "Iteration 289, loss = 2.07419808\n",
      "Iteration 290, loss = 2.05356415\n",
      "Iteration 291, loss = 2.03272389\n",
      "Iteration 292, loss = 2.01272623\n",
      "Iteration 293, loss = 1.99445641\n",
      "Iteration 294, loss = 1.97526649\n",
      "Iteration 295, loss = 1.95763082\n",
      "Iteration 296, loss = 1.93988765\n",
      "Iteration 297, loss = 1.92356439\n",
      "Iteration 298, loss = 1.90746923\n",
      "Iteration 299, loss = 1.89226049\n",
      "Iteration 300, loss = 1.87756519\n",
      "Iteration 301, loss = 1.86229556\n",
      "Iteration 302, loss = 1.84876229\n",
      "Iteration 303, loss = 1.83541642\n",
      "Iteration 304, loss = 1.82191446\n",
      "Iteration 305, loss = 1.80948355\n",
      "Iteration 306, loss = 1.79750374\n",
      "Iteration 307, loss = 1.78533436\n",
      "Iteration 308, loss = 1.77361895\n"
     ]
    },
    {
     "name": "stdout",
     "output_type": "stream",
     "text": [
      "Iteration 309, loss = 1.76361722\n",
      "Iteration 310, loss = 1.75239578\n",
      "Iteration 311, loss = 1.74217582\n",
      "Iteration 312, loss = 1.73233570\n",
      "Iteration 313, loss = 1.72218428\n",
      "Iteration 314, loss = 1.71292222\n",
      "Iteration 315, loss = 1.70420056\n",
      "Iteration 316, loss = 1.69537127\n",
      "Iteration 317, loss = 1.68704564\n",
      "Iteration 318, loss = 1.67904849\n",
      "Iteration 319, loss = 1.67066304\n",
      "Iteration 320, loss = 1.66344366\n",
      "Iteration 321, loss = 1.65613086\n",
      "Iteration 322, loss = 1.64845130\n",
      "Iteration 323, loss = 1.64179330\n",
      "Iteration 324, loss = 1.63527411\n",
      "Iteration 325, loss = 1.62890347\n",
      "Iteration 326, loss = 1.62214046\n",
      "Iteration 327, loss = 1.61598888\n",
      "Iteration 328, loss = 1.61037203\n",
      "Iteration 329, loss = 1.60409478\n",
      "Iteration 330, loss = 1.59912844\n",
      "Iteration 331, loss = 1.59301975\n",
      "Iteration 332, loss = 1.58811885\n",
      "Iteration 333, loss = 1.58289647\n",
      "Iteration 334, loss = 1.57798794\n",
      "Iteration 335, loss = 1.57297802\n",
      "Iteration 336, loss = 1.56810917\n",
      "Iteration 337, loss = 1.56375606\n",
      "Iteration 338, loss = 1.55900610\n",
      "Iteration 339, loss = 1.55477495\n",
      "Iteration 340, loss = 1.55066079\n",
      "Iteration 341, loss = 1.54662869\n",
      "Iteration 342, loss = 1.54236183\n",
      "Iteration 343, loss = 1.53873296\n",
      "Iteration 344, loss = 1.53458574\n",
      "Iteration 345, loss = 1.53094485\n",
      "Iteration 346, loss = 1.52705455\n",
      "Iteration 347, loss = 1.52380558\n",
      "Iteration 348, loss = 1.52010210\n",
      "Iteration 349, loss = 1.51675053\n",
      "Iteration 350, loss = 1.51358593\n",
      "Iteration 351, loss = 1.51019550\n",
      "Iteration 352, loss = 1.50716609\n",
      "Iteration 353, loss = 1.50400142\n",
      "Iteration 354, loss = 1.50120179\n",
      "Iteration 355, loss = 1.49808269\n",
      "Iteration 356, loss = 1.49509986\n",
      "Iteration 357, loss = 1.49226742\n",
      "Iteration 358, loss = 1.48939850\n",
      "Iteration 359, loss = 1.48667303\n",
      "Iteration 360, loss = 1.48407569\n",
      "Iteration 361, loss = 1.48128116\n",
      "Iteration 362, loss = 1.47852758\n",
      "Iteration 363, loss = 1.47591405\n",
      "Iteration 364, loss = 1.47320479\n",
      "Iteration 365, loss = 1.47096841\n",
      "Iteration 366, loss = 1.46824212\n",
      "Iteration 367, loss = 1.46577666\n",
      "Iteration 368, loss = 1.46319324\n",
      "Iteration 369, loss = 1.46103298\n",
      "Iteration 370, loss = 1.45851273\n",
      "Iteration 371, loss = 1.45623717\n",
      "Iteration 372, loss = 1.45373900\n",
      "Iteration 373, loss = 1.45145352\n",
      "Iteration 374, loss = 1.44917265\n",
      "Iteration 375, loss = 1.44695052\n",
      "Iteration 376, loss = 1.44466819\n",
      "Iteration 377, loss = 1.44251930\n",
      "Iteration 378, loss = 1.44032623\n",
      "Iteration 379, loss = 1.43807047\n",
      "Iteration 380, loss = 1.43620392\n",
      "Iteration 381, loss = 1.43381974\n",
      "Iteration 382, loss = 1.43178442\n",
      "Iteration 383, loss = 1.42981918\n",
      "Iteration 384, loss = 1.42774256\n",
      "Iteration 385, loss = 1.42566651\n",
      "Iteration 386, loss = 1.42359254\n",
      "Iteration 387, loss = 1.42168078\n",
      "Iteration 388, loss = 1.41961488\n",
      "Iteration 389, loss = 1.41766485\n",
      "Iteration 390, loss = 1.41570730\n",
      "Iteration 391, loss = 1.41364626\n",
      "Iteration 392, loss = 1.41166734\n",
      "Iteration 393, loss = 1.40983522\n",
      "Iteration 394, loss = 1.40794249\n",
      "Iteration 395, loss = 1.40599404\n",
      "Iteration 396, loss = 1.40400853\n",
      "Iteration 397, loss = 1.40208099\n",
      "Iteration 398, loss = 1.40021654\n",
      "Iteration 399, loss = 1.39833319\n",
      "Iteration 400, loss = 1.39647774\n",
      "Iteration 401, loss = 1.39469219\n",
      "Iteration 402, loss = 1.39266063\n",
      "Iteration 403, loss = 1.39072336\n",
      "Iteration 404, loss = 1.38897747\n",
      "Iteration 405, loss = 1.38727456\n",
      "Iteration 406, loss = 1.38509719\n",
      "Iteration 407, loss = 1.38339860\n",
      "Iteration 408, loss = 1.38149839\n",
      "Iteration 409, loss = 1.37978474\n",
      "Iteration 410, loss = 1.37785234\n",
      "Iteration 411, loss = 1.37591096\n",
      "Iteration 412, loss = 1.37424400\n",
      "Iteration 413, loss = 1.37231524\n",
      "Iteration 414, loss = 1.37043879\n",
      "Iteration 415, loss = 1.36862523\n",
      "Iteration 416, loss = 1.36665669\n",
      "Iteration 417, loss = 1.36484766\n",
      "Iteration 418, loss = 1.36287660\n",
      "Iteration 419, loss = 1.36116009\n",
      "Iteration 420, loss = 1.35920872\n",
      "Iteration 421, loss = 1.35726242\n",
      "Iteration 422, loss = 1.35540491\n",
      "Iteration 423, loss = 1.35349468\n",
      "Iteration 424, loss = 1.35176853\n",
      "Iteration 425, loss = 1.34980891\n",
      "Iteration 426, loss = 1.34803058\n",
      "Iteration 427, loss = 1.34605970\n",
      "Iteration 428, loss = 1.34416857\n",
      "Iteration 429, loss = 1.34241047\n",
      "Iteration 430, loss = 1.34088259\n",
      "Iteration 431, loss = 1.33885473\n",
      "Iteration 432, loss = 1.33687213\n",
      "Iteration 433, loss = 1.33501907\n",
      "Iteration 434, loss = 1.33332581\n",
      "Iteration 435, loss = 1.33148322\n",
      "Iteration 436, loss = 1.32973778\n",
      "Iteration 437, loss = 1.32776957\n",
      "Iteration 438, loss = 1.32628199\n",
      "Iteration 439, loss = 1.32423356\n",
      "Iteration 440, loss = 1.32236600\n",
      "Iteration 441, loss = 1.32066916\n",
      "Iteration 442, loss = 1.31880128\n",
      "Iteration 443, loss = 1.31690728\n",
      "Iteration 444, loss = 1.31531627\n",
      "Iteration 445, loss = 1.31323030\n",
      "Iteration 446, loss = 1.31176094\n",
      "Iteration 447, loss = 1.30985934\n",
      "Iteration 448, loss = 1.30788739\n",
      "Iteration 449, loss = 1.30610974\n",
      "Iteration 450, loss = 1.30439220\n",
      "Iteration 451, loss = 1.30267015\n",
      "Iteration 452, loss = 1.30086434\n",
      "Iteration 453, loss = 1.29892422\n",
      "Iteration 454, loss = 1.29719649\n",
      "Iteration 455, loss = 1.29552544\n",
      "Iteration 456, loss = 1.29362558\n",
      "Iteration 457, loss = 1.29193164\n",
      "Iteration 458, loss = 1.29001730\n",
      "Iteration 459, loss = 1.28823600\n",
      "Iteration 460, loss = 1.28652486\n",
      "Iteration 461, loss = 1.28484333\n",
      "Iteration 462, loss = 1.28289973\n",
      "Iteration 463, loss = 1.28103357\n",
      "Iteration 464, loss = 1.27924209\n",
      "Iteration 465, loss = 1.27750832\n",
      "Iteration 466, loss = 1.27573220\n",
      "Iteration 467, loss = 1.27387512\n",
      "Iteration 468, loss = 1.27220463\n",
      "Iteration 469, loss = 1.27032216\n",
      "Iteration 470, loss = 1.26856882\n",
      "Iteration 471, loss = 1.26679423\n",
      "Iteration 472, loss = 1.26503430\n",
      "Iteration 473, loss = 1.26322476\n",
      "Iteration 474, loss = 1.26168557\n",
      "Iteration 475, loss = 1.25971588\n",
      "Iteration 476, loss = 1.25800478\n",
      "Iteration 477, loss = 1.25614247\n",
      "Iteration 478, loss = 1.25442350\n",
      "Iteration 479, loss = 1.25270916\n",
      "Iteration 480, loss = 1.25094146\n",
      "Iteration 481, loss = 1.24924826\n",
      "Iteration 482, loss = 1.24751303\n",
      "Iteration 483, loss = 1.24558350\n",
      "Iteration 484, loss = 1.24390500\n",
      "Iteration 485, loss = 1.24217945\n",
      "Iteration 486, loss = 1.24057468\n",
      "Iteration 487, loss = 1.23858576\n",
      "Iteration 488, loss = 1.23686322\n",
      "Iteration 489, loss = 1.23522003\n",
      "Iteration 490, loss = 1.23335490\n",
      "Iteration 491, loss = 1.23167023\n",
      "Iteration 492, loss = 1.23022666\n",
      "Iteration 493, loss = 1.22817272\n",
      "Iteration 494, loss = 1.22632791\n",
      "Iteration 495, loss = 1.22456230\n",
      "Iteration 496, loss = 1.22287611\n",
      "Iteration 497, loss = 1.22107482\n",
      "Iteration 498, loss = 1.21934503\n",
      "Iteration 499, loss = 1.21754754\n",
      "Iteration 500, loss = 1.21574297\n"
     ]
    },
    {
     "name": "stderr",
     "output_type": "stream",
     "text": [
      "/Users/casaponsa/Library/Python/3.8/lib/python/site-packages/sklearn/neural_network/_multilayer_perceptron.py:614: ConvergenceWarning: Stochastic Optimizer: Maximum iterations (500) reached and the optimization hasn't converged yet.\n",
      "  warnings.warn(\n"
     ]
    },
    {
     "data": {
      "text/plain": [
       "MLPRegressor(hidden_layer_sizes=10, max_iter=500, verbose=True)"
      ]
     },
     "execution_count": 23,
     "metadata": {},
     "output_type": "execute_result"
    }
   ],
   "source": [
    "mlp.fit(X_train,y_train) # usa modelo red neuronal que hemos definido antes y(x,w)\n",
    "# mlp.loss_curve en Clasificación te guarda el valor de la función coste a cada iteración"
   ]
  },
  {
   "cell_type": "code",
   "execution_count": 24,
   "metadata": {},
   "outputs": [
    {
     "data": {
      "text/plain": [
       "Text(0, 0.5, 'loss function')"
      ]
     },
     "execution_count": 24,
     "metadata": {},
     "output_type": "execute_result"
    },
    {
     "data": {
      "image/png": "[encoded data removed]",
      "text/plain": [
       "<Figure size 432x288 with 1 Axes>"
      ]
     },
     "metadata": {
      "needs_background": "light"
     },
     "output_type": "display_data"
    }
   ],
   "source": [
    "import matplotlib.pyplot as pl\n",
    "pl.plot(mlp.loss_curve_)  # mlp.loss_curve nos da una idea de como converge el training set\n",
    "pl.xlabel('iteration')\n",
    "pl.ylabel('loss function')"
   ]
  },
  {
   "cell_type": "markdown",
   "metadata": {},
   "source": [
    "Hacemos las predicciones con el set de validación y hacemos algún cálculo para ver si se parecen con los valores reales. Aquí calculo el coeficiente de correlación (que debería ser 1) y el error relativo. "
   ]
  },
  {
   "cell_type": "code",
   "execution_count": 25,
   "metadata": {},
   "outputs": [
    {
     "name": "stdout",
     "output_type": "stream",
     "text": [
      "coeficiente correlación 0.999354649801217\n",
      "error relativo 0.7281247567830477\n"
     ]
    },
    {
     "data": {
      "text/plain": [
       "[<matplotlib.lines.Line2D at 0x1243d6e50>]"
      ]
     },
     "execution_count": 25,
     "metadata": {},
     "output_type": "execute_result"
    },
    {
     "data": {
      "image/png": "[encoded data removed]",
      "text/plain": [
       "<Figure size 432x288 with 1 Axes>"
      ]
     },
     "metadata": {
      "needs_background": "light"
     },
     "output_type": "display_data"
    }
   ],
   "source": [
    "predictions = mlp.predict(X_test) # estimamos resultado con el TEST\n",
    "print('coeficiente correlación', np.corrcoef(predictions,y_test)[0][1] ) # calculamos correlación con el valor esperado\n",
    "print('error relativo', np.mean(abs(predictions-y_test)/y_test)*100)  # calculamos correlación con el valor esperado\n",
    "\n",
    "\n",
    "import matplotlib.pyplot as pl\n",
    "pl.plot(predictions,y_test,'.')\n"
   ]
  },
  {
   "cell_type": "markdown",
   "metadata": {},
   "source": [
    "Le pido a la red que sume 10 + 2 + 6"
   ]
  },
  {
   "cell_type": "code",
   "execution_count": 36,
   "metadata": {},
   "outputs": [
    {
     "name": "stdout",
     "output_type": "stream",
     "text": [
      "la suma predicha es [18.]\n",
      "la suma real es 18\n"
     ]
    }
   ],
   "source": [
    "A=np.array([10, 2, 6]).reshape(1,-1) # sklearn necesita que se lo de dimension(1,n)\n",
    "print('la suma predicha es', np.round(mlp.predict(A))) # redondamos\n",
    "print('la suma real es',np.round(np.sum(A)))"
   ]
  },
  {
   "cell_type": "markdown",
   "metadata": {},
   "source": [
    "Le pido a la red que sume 100 + 100 + 100"
   ]
  },
  {
   "cell_type": "code",
   "execution_count": 37,
   "metadata": {},
   "outputs": [
    {
     "name": "stdout",
     "output_type": "stream",
     "text": [
      "la suma predicha es [299.]\n",
      "la suma real es 300\n"
     ]
    }
   ],
   "source": [
    "# si miramos valores muy lejos del rango\n",
    "A=np.array([100,100,100]).reshape(1,-1) \n",
    "np.shape(A)\n",
    "print('la suma predicha es', np.round(mlp.predict(A))) # redondamos\n",
    "print('la suma real es',np.round(np.sum(A)))"
   ]
  },
  {
   "cell_type": "markdown",
   "metadata": {},
   "source": [
    "Y ahora Le pido a la red que sume 1000 + 1000 + 1000"
   ]
  },
  {
   "cell_type": "code",
   "execution_count": 44,
   "metadata": {},
   "outputs": [
    {
     "name": "stdout",
     "output_type": "stream",
     "text": [
      "la suma predicha es [7019.]\n",
      "la suma real es 7050\n"
     ]
    }
   ],
   "source": [
    "# si miramos valores muy lejos del rango\n",
    "A=np.array([2000,1050,4000]).reshape(1,-1) \n",
    "np.shape(A)\n",
    "print('la suma predicha es', np.round(mlp.predict(A))) # redondamos\n",
    "print('la suma real es',np.round(np.sum(A)))"
   ]
  },
  {
   "cell_type": "markdown",
   "metadata": {},
   "source": [
    "**NO ha aprendido a sumar!** Ha ajustado muy bien los datos pero a la que me alejo del rango (0,100) se equivoca"
   ]
  },
  {
   "cell_type": "markdown",
   "metadata": {},
   "source": [
    "## Ejercicios: \n",
    "\n",
    "1. Haz pruebas con esta red para ver si mejoras los resultados. Para mejorar un ajuste puedes probar:\n",
    "\n",
    "* cambiar el número de neuronas o capas \n",
    "\n",
    "* Parámetros del MPLRegressor como función de activación, optimizer, loss_function, batch_size,...\n",
    "\n",
    "* Añadir más datos, usamos cuantos más datos mejor, hasta que veamos que añadir más datos no mejora la solución."
   ]
  },
  {
   "cell_type": "markdown",
   "metadata": {},
   "source": [
    "2. Entrena una red para que aprenda a multiplicar 4 números."
   ]
  },
  {
   "cell_type": "code",
   "execution_count": null,
   "metadata": {},
   "outputs": [],
   "source": []
  }
 ],
 "metadata": {
  "kernelspec": {
   "display_name": "Python 3 (ipykernel)",
   "language": "python",
   "name": "python3"
  },
  "language_info": {
   "codemirror_mode": {
    "name": "ipython",
    "version": 3
   },
   "file_extension": ".py",
   "mimetype": "text/x-python",
   "name": "python",
   "nbconvert_exporter": "python",
   "pygments_lexer": "ipython3",
   "version": "3.8.2"
  }
 },
 "nbformat": 4,
 "nbformat_minor": 2
}
